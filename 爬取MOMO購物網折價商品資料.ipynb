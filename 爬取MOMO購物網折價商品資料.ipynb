{
 "cells": [
  {
   "cell_type": "markdown",
   "metadata": {},
   "source": [
    "## 爬取MOMO折價商品資訊"
   ]
  },
  {
   "cell_type": "code",
   "execution_count": 4,
   "metadata": {},
   "outputs": [],
   "source": [
    "import requests\n",
    "headers = {\n",
    "    'user-agent':'Mozilla/5.0 (Windows NT 10.0; Win64; x64) AppleWebKit/537.36 (KHTML, like Gecko) Chrome/80.0.3987.132 Safari/537.36'    \n",
    "} #假裝是真人瀏覽，可到〔檢查〕中的network查詢\n",
    "    \n",
    "res = requests.get('https://www.momoshop.com.tw/category/DgrpCategory.jsp?d_code=2900400054&CPHOT=Y&flag=L', headers = headers) #抓取的網頁\n",
    "#res.text(這裡顯示的是網頁原始碼)"
   ]
  },
  {
   "cell_type": "code",
   "execution_count": 5,
   "metadata": {},
   "outputs": [],
   "source": [
    "from bs4 import BeautifulSoup\n",
    "soup = BeautifulSoup(res.text, 'lxml')"
   ]
  },
  {
   "cell_type": "code",
   "execution_count": 6,
   "metadata": {},
   "outputs": [],
   "source": [
    "ary = [] \n",
    "for good in soup.select('.eachGood'): \n",
    "    #print(good)\n",
    "    title = good.select_one('.prdName').get('title')\n",
    "    price = good.select_one('.prdPrice').text\n",
    "    icon = good.select_one('.iconArea').text\n",
    "    ary.append({'title':title,  'price':price, 'icon':icon})"
   ]
  },
  {
   "cell_type": "code",
   "execution_count": 7,
   "metadata": {},
   "outputs": [],
   "source": [
    "import pandas\n",
    "df = pandas.DataFrame(ary)"
   ]
  },
  {
   "cell_type": "code",
   "execution_count": 8,
   "metadata": {},
   "outputs": [
    {
     "data": {
      "text/html": [
       "<div>\n",
       "<style scoped>\n",
       "    .dataframe tbody tr th:only-of-type {\n",
       "        vertical-align: middle;\n",
       "    }\n",
       "\n",
       "    .dataframe tbody tr th {\n",
       "        vertical-align: top;\n",
       "    }\n",
       "\n",
       "    .dataframe thead th {\n",
       "        text-align: right;\n",
       "    }\n",
       "</style>\n",
       "<table border=\"1\" class=\"dataframe\">\n",
       "  <thead>\n",
       "    <tr style=\"text-align: right;\">\n",
       "      <th></th>\n",
       "      <th>title</th>\n",
       "      <th>price</th>\n",
       "      <th>icon</th>\n",
       "    </tr>\n",
       "  </thead>\n",
       "  <tbody>\n",
       "    <tr>\n",
       "      <th>0</th>\n",
       "      <td>【英國Gtech小綠除蹣大全配】無線吸塵器Multi Power Floor-送電動除蹣吸頭</td>\n",
       "      <td>$6,999</td>\n",
       "      <td>折價券登記</td>\n",
       "    </tr>\n",
       "    <tr>\n",
       "      <th>1</th>\n",
       "      <td>【禾聯慶開館★3/1-3/31滿額登記送MO幣】無線洗吸拖三合一吸塵洗地機(HWC-22EC...</td>\n",
       "      <td>$5,990</td>\n",
       "      <td>折價券登記贈品</td>\n",
       "    </tr>\n",
       "    <tr>\n",
       "      <th>2</th>\n",
       "      <td>【3/5-12 戴森 滿萬送豪禮】dyson V10 Absolute SV12 無線吸塵器...</td>\n",
       "      <td>$17,900</td>\n",
       "      <td>折價券登記</td>\n",
       "    </tr>\n",
       "    <tr>\n",
       "      <th>3</th>\n",
       "      <td>【Bissell】美國必勝 多功能蒸氣熨斗清潔機(2635U)</td>\n",
       "      <td>$1,690</td>\n",
       "      <td>速折價券登記</td>\n",
       "    </tr>\n",
       "    <tr>\n",
       "      <th>4</th>\n",
       "      <td>【3/5-12 戴森 滿萬送豪禮】dyson V7 Mattress 無線手持除蹣吸塵器(升...</td>\n",
       "      <td>$12,999</td>\n",
       "      <td>折價券登記</td>\n",
       "    </tr>\n",
       "  </tbody>\n",
       "</table>\n",
       "</div>"
      ],
      "text/plain": [
       "                                               title    price     icon\n",
       "0     【英國Gtech小綠除蹣大全配】無線吸塵器Multi Power Floor-送電動除蹣吸頭   $6,999    折價券登記\n",
       "1  【禾聯慶開館★3/1-3/31滿額登記送MO幣】無線洗吸拖三合一吸塵洗地機(HWC-22EC...   $5,990  折價券登記贈品\n",
       "2  【3/5-12 戴森 滿萬送豪禮】dyson V10 Absolute SV12 無線吸塵器...  $17,900    折價券登記\n",
       "3                    【Bissell】美國必勝 多功能蒸氣熨斗清潔機(2635U)   $1,690   速折價券登記\n",
       "4  【3/5-12 戴森 滿萬送豪禮】dyson V7 Mattress 無線手持除蹣吸塵器(升...  $12,999    折價券登記"
      ]
     },
     "execution_count": 8,
     "metadata": {},
     "output_type": "execute_result"
    }
   ],
   "source": [
    "df.head()"
   ]
  },
  {
   "cell_type": "code",
   "execution_count": null,
   "metadata": {},
   "outputs": [],
   "source": []
  }
 ],
 "metadata": {
  "kernelspec": {
   "display_name": "Python 3",
   "language": "python",
   "name": "python3"
  },
  "language_info": {
   "codemirror_mode": {
    "name": "ipython",
    "version": 3
   },
   "file_extension": ".py",
   "mimetype": "text/x-python",
   "name": "python",
   "nbconvert_exporter": "python",
   "pygments_lexer": "ipython3",
   "version": "3.7.1"
  }
 },
 "nbformat": 4,
 "nbformat_minor": 4
}
